{
 "cells": [
  {
   "cell_type": "markdown",
   "id": "b1ad44bc",
   "metadata": {},
   "source": [
    "### ndarray의 정렬, 연결, 삭제, CSV파일 로딩은 일반적으로 pandas로 처리한다."
   ]
  },
  {
   "cell_type": "code",
   "execution_count": 1,
   "id": "59780e97",
   "metadata": {},
   "outputs": [],
   "source": [
    "import numpy as np     # 관용적으로 numpy의 alias는 np를 사용\n",
    "import pandas as pd    # 관용적으로 pandas의 alias는 pd를 사용"
   ]
  },
  {
   "cell_type": "markdown",
   "id": "e273721b",
   "metadata": {},
   "source": [
    "### ndarray 생성"
   ]
  },
  {
   "cell_type": "code",
   "execution_count": 2,
   "id": "d382a5f8",
   "metadata": {},
   "outputs": [
    {
     "name": "stdout",
     "output_type": "stream",
     "text": [
      "[1. 2. 3. 4. 5.]\n"
     ]
    }
   ],
   "source": [
    "arr = np.array([1, 2, 3, 4, 5], dtype=np.float64)\n",
    "print(arr)"
   ]
  },
  {
   "cell_type": "markdown",
   "id": "341e7729",
   "metadata": {},
   "source": [
    "### Series 생성"
   ]
  },
  {
   "cell_type": "code",
   "execution_count": 3,
   "id": "c22c4ae0",
   "metadata": {},
   "outputs": [
    {
     "name": "stdout",
     "output_type": "stream",
     "text": [
      "0    1.0\n",
      "1    2.0\n",
      "2    3.0\n",
      "3    4.0\n",
      "4    5.0\n",
      "dtype: float64\n"
     ]
    }
   ],
   "source": [
    "s = pd.Series([1, 2, 3, 4, 5], dtype=np.float64)\n",
    "print(s)         # index와 value 출력"
   ]
  },
  {
   "cell_type": "code",
   "execution_count": 4,
   "id": "8f2e3697",
   "metadata": {},
   "outputs": [
    {
     "name": "stdout",
     "output_type": "stream",
     "text": [
      "[1. 2. 3. 4. 5.]\n",
      "RangeIndex(start=0, stop=5, step=1)\n",
      "float64\n"
     ]
    }
   ],
   "source": [
    "print(s.values)  # ndarray\n",
    "print(s.index)   # pandas의 객체\n",
    "print(s.dtype)   # float64 (실수)"
   ]
  },
  {
   "cell_type": "code",
   "execution_count": 5,
   "id": "f40835aa",
   "metadata": {},
   "outputs": [
    {
     "name": "stdout",
     "output_type": "stream",
     "text": [
      "c      1.0\n",
      "b      2.0\n",
      "a      3.0\n",
      "kk     4.0\n",
      "홍길동    5.0\n",
      "dtype: float64\n"
     ]
    }
   ],
   "source": [
    "import numpy as np     \n",
    "import pandas as pd \n",
    "\n",
    "s = pd.Series([1, 2, 3, 4, 5],\n",
    "              dtype=np.float64,\n",
    "              index=['c', 'b', 'a', 'kk', '홍길동'])\n",
    "print(s)"
   ]
  },
  {
   "cell_type": "markdown",
   "id": "99689a7e",
   "metadata": {},
   "source": [
    "### 만약 인덱스를 지정해서 Series를 만들면?\n",
    "### => 숫자 index는 그대로 사용 가능 (내부에 숨어 있음)"
   ]
  },
  {
   "cell_type": "code",
   "execution_count": 6,
   "id": "02401648",
   "metadata": {},
   "outputs": [
    {
     "name": "stdout",
     "output_type": "stream",
     "text": [
      "1.0\n",
      "1.0\n"
     ]
    }
   ],
   "source": [
    "print(s[0])   # 숫자 index\n",
    "print(s['c']) # 지정 index"
   ]
  },
  {
   "cell_type": "code",
   "execution_count": 7,
   "id": "9ba6a7d1",
   "metadata": {},
   "outputs": [],
   "source": [
    "# Error\n",
    "# print(s[100])   \n",
    "# print(s['wow'])\n",
    "# IndexError: index 100 is out of bounds for axis 0 with size 5"
   ]
  },
  {
   "cell_type": "markdown",
   "id": "3797b232",
   "metadata": {},
   "source": [
    "### 지정 index를 숫자로 사용하면?\n",
    "### => 원래 index 사용 불가"
   ]
  },
  {
   "cell_type": "code",
   "execution_count": 8,
   "id": "6b440ad3",
   "metadata": {},
   "outputs": [
    {
     "name": "stdout",
     "output_type": "stream",
     "text": [
      "0      1.0\n",
      "2      2.0\n",
      "100    3.0\n",
      "6      4.0\n",
      "9      5.0\n",
      "dtype: float64\n"
     ]
    }
   ],
   "source": [
    "import numpy as np     \n",
    "import pandas as pd \n",
    "\n",
    "s = pd.Series([1, 2, 3, 4, 5],\n",
    "              dtype=np.float64,\n",
    "              index=[0, 2, 100, 6, 9])\n",
    "print(s)"
   ]
  },
  {
   "cell_type": "code",
   "execution_count": 9,
   "id": "35c8d4fc",
   "metadata": {},
   "outputs": [
    {
     "name": "stdout",
     "output_type": "stream",
     "text": [
      "1.0\n",
      "3.0\n"
     ]
    }
   ],
   "source": [
    "print(s[0])\n",
    "print(s[100])"
   ]
  },
  {
   "cell_type": "code",
   "execution_count": 10,
   "id": "053ba7ce",
   "metadata": {},
   "outputs": [],
   "source": [
    "# KeyError\n",
    "# print(s[1])"
   ]
  },
  {
   "cell_type": "markdown",
   "id": "c180c899",
   "metadata": {},
   "source": [
    "### 지정 index에 같은 index가 존재하면?\n",
    "### => 모두 나옴"
   ]
  },
  {
   "cell_type": "code",
   "execution_count": 11,
   "id": "887373cd",
   "metadata": {},
   "outputs": [
    {
     "name": "stdout",
     "output_type": "stream",
     "text": [
      "c    1.0\n",
      "b    2.0\n",
      "c    3.0\n",
      "k    4.0\n",
      "m    5.0\n",
      "dtype: float64\n"
     ]
    }
   ],
   "source": [
    "import numpy as np     \n",
    "import pandas as pd \n",
    "\n",
    "s = pd.Series([1, 2, 3, 4, 5],\n",
    "              dtype=np.float64,\n",
    "              index=['c', 'b', 'c', 'k', 'm'])\n",
    "print(s)"
   ]
  },
  {
   "cell_type": "code",
   "execution_count": 12,
   "id": "e44a26a0",
   "metadata": {},
   "outputs": [
    {
     "name": "stdout",
     "output_type": "stream",
     "text": [
      "c    1.0\n",
      "c    3.0\n",
      "dtype: float64\n"
     ]
    }
   ],
   "source": [
    "print(s['c'])"
   ]
  },
  {
   "cell_type": "markdown",
   "id": "70fb65ab",
   "metadata": {},
   "source": [
    "## indexing & slicing\n",
    "- indexing은 ndarray나 list와 비슷하나 slicing은 주의해야 함"
   ]
  },
  {
   "cell_type": "code",
   "execution_count": 13,
   "id": "8d134210",
   "metadata": {},
   "outputs": [
    {
     "name": "stdout",
     "output_type": "stream",
     "text": [
      "c    1.0\n",
      "b    2.0\n",
      "a    3.0\n",
      "k    4.0\n",
      "m    5.0\n",
      "dtype: float64\n"
     ]
    }
   ],
   "source": [
    "import numpy as np     \n",
    "import pandas as pd \n",
    "\n",
    "s = pd.Series([1, 2, 3, 4, 5],\n",
    "              dtype=np.float64,\n",
    "              index=['c', 'b', 'a', 'k', 'm'])\n",
    "print(s)"
   ]
  },
  {
   "cell_type": "markdown",
   "id": "12892ade",
   "metadata": {},
   "source": [
    "### 숫자 index를 이용한 slicing(ndarray, list와 동일)"
   ]
  },
  {
   "cell_type": "code",
   "execution_count": 14,
   "id": "6eb928cf",
   "metadata": {},
   "outputs": [
    {
     "name": "stdout",
     "output_type": "stream",
     "text": [
      "c    1.0\n",
      "b    2.0\n",
      "a    3.0\n",
      "dtype: float64\n"
     ]
    }
   ],
   "source": [
    "print(s[0:3])"
   ]
  },
  {
   "cell_type": "markdown",
   "id": "6e0b526a",
   "metadata": {},
   "source": [
    "### 지정 index를 사용한 slicing"
   ]
  },
  {
   "cell_type": "code",
   "execution_count": 15,
   "id": "de96bab6",
   "metadata": {},
   "outputs": [
    {
     "name": "stdout",
     "output_type": "stream",
     "text": [
      "c    1.0\n",
      "b    2.0\n",
      "a    3.0\n",
      "dtype: float64\n"
     ]
    }
   ],
   "source": [
    "print(s['c':'a']) # 'a'까지 포함"
   ]
  },
  {
   "cell_type": "markdown",
   "id": "c1b53e77",
   "metadata": {},
   "source": [
    "## boolean indexing, fancy indexing"
   ]
  },
  {
   "cell_type": "code",
   "execution_count": 16,
   "id": "f5c8599c",
   "metadata": {},
   "outputs": [
    {
     "name": "stdout",
     "output_type": "stream",
     "text": [
      "c    1.0\n",
      "b    2.0\n",
      "a    3.0\n",
      "k    4.0\n",
      "m    5.0\n",
      "dtype: float64\n"
     ]
    }
   ],
   "source": [
    "import numpy as np     \n",
    "import pandas as pd \n",
    "\n",
    "s = pd.Series([1, 2, 3, 4, 5],\n",
    "              dtype=np.float64,\n",
    "              index=['c', 'b', 'a', 'k', 'm'])\n",
    "print(s)"
   ]
  },
  {
   "cell_type": "markdown",
   "id": "50c98ef4",
   "metadata": {},
   "source": [
    "### 짝수만 추출하는 boolean indexing"
   ]
  },
  {
   "cell_type": "code",
   "execution_count": 17,
   "id": "ffbdb25e",
   "metadata": {},
   "outputs": [
    {
     "name": "stdout",
     "output_type": "stream",
     "text": [
      "b    2.0\n",
      "k    4.0\n",
      "dtype: float64\n"
     ]
    }
   ],
   "source": [
    "print(s[s % 2 == 0])"
   ]
  },
  {
   "cell_type": "markdown",
   "id": "0c21c2b2",
   "metadata": {},
   "source": [
    "### fancy indexing"
   ]
  },
  {
   "cell_type": "code",
   "execution_count": 18,
   "id": "eaff3562",
   "metadata": {},
   "outputs": [
    {
     "name": "stdout",
     "output_type": "stream",
     "text": [
      "c    1.0\n",
      "a    3.0\n",
      "dtype: float64\n"
     ]
    }
   ],
   "source": [
    "print(s[[0,2]])"
   ]
  },
  {
   "cell_type": "markdown",
   "id": "e9e788b4",
   "metadata": {},
   "source": [
    "## dictionary를 이용해서 Series 생성"
   ]
  },
  {
   "cell_type": "code",
   "execution_count": 19,
   "id": "889e0734",
   "metadata": {},
   "outputs": [
    {
     "name": "stdout",
     "output_type": "stream",
     "text": [
      "서울    1000\n",
      "인천     500\n",
      "제주     200\n",
      "dtype: int64\n"
     ]
    }
   ],
   "source": [
    "my_dict = {'서울': 1000, \n",
    "           '인천': 500,\n",
    "           '제주': 200}\n",
    "\n",
    "s = pd.Series(my_dict)\n",
    "print(s)"
   ]
  },
  {
   "cell_type": "markdown",
   "id": "637c7082",
   "metadata": {},
   "source": [
    "## 연습"
   ]
  },
  {
   "cell_type": "markdown",
   "id": "acf8a9d9",
   "metadata": {},
   "source": [
    "### A공장의 2020년 1월 1일 부터 10일간 생산량의 Series로 저장\n",
    "### 생산량: 평균 50, 표준편차 5인 정규분포에서 랜덤하게 생성(정수)\n",
    "### index: 날짜"
   ]
  },
  {
   "cell_type": "code",
   "execution_count": 20,
   "id": "f1667cf0",
   "metadata": {},
   "outputs": [
    {
     "name": "stdout",
     "output_type": "stream",
     "text": [
      "2020-01-01    52\n",
      "2020-01-02    51\n",
      "2020-01-03    49\n",
      "2020-01-04    53\n",
      "2020-01-05    52\n",
      "2020-01-06    53\n",
      "2020-01-07    48\n",
      "2020-01-08    47\n",
      "2020-01-09    48\n",
      "2020-01-10    55\n",
      "dtype: int64\n"
     ]
    }
   ],
   "source": [
    "import numpy as np\n",
    "import pandas as pd\n",
    "from datetime import datetime, timedelta\n",
    "\n",
    "start_day = datetime(2020,1,1)\n",
    "\n",
    "# list comprehension => list 생성 시 제어문(for,if)을 이용.\n",
    "s1 = pd.Series([int(x) for x in np.random.normal(50,5,(10,))],\n",
    "               index=[start_day + timedelta(days=x) for x in range(10)])\n",
    "print(s1)"
   ]
  },
  {
   "cell_type": "markdown",
   "id": "a51f9875",
   "metadata": {},
   "source": [
    "### B공장의 2020년 1월 1일 부터 10일간 생산량의 Series로 저장\n",
    "### 생산량: 평균 70, 표준편차 8인 정규분포에서 랜덤하게 생성(정수)\n",
    "### index: 날짜"
   ]
  },
  {
   "cell_type": "code",
   "execution_count": 21,
   "id": "a477f7ad",
   "metadata": {},
   "outputs": [
    {
     "name": "stdout",
     "output_type": "stream",
     "text": [
      "2020-01-01    61\n",
      "2020-01-02    77\n",
      "2020-01-03    61\n",
      "2020-01-04    85\n",
      "2020-01-05    57\n",
      "2020-01-06    71\n",
      "2020-01-07    68\n",
      "2020-01-08    65\n",
      "2020-01-09    58\n",
      "2020-01-10    57\n",
      "dtype: int64\n"
     ]
    }
   ],
   "source": [
    "s2 = pd.Series([int(x) for x in np.random.normal(70,8,(10,))],\n",
    "               index=[start_day + timedelta(days=x) for x in range(10)])\n",
    "print(s2)"
   ]
  },
  {
   "cell_type": "markdown",
   "id": "0d26255b",
   "metadata": {},
   "source": [
    "### 날짜별 생산량의 합"
   ]
  },
  {
   "cell_type": "code",
   "execution_count": 22,
   "id": "14195142",
   "metadata": {},
   "outputs": [
    {
     "name": "stdout",
     "output_type": "stream",
     "text": [
      "2020-01-01    113\n",
      "2020-01-02    128\n",
      "2020-01-03    110\n",
      "2020-01-04    138\n",
      "2020-01-05    109\n",
      "2020-01-06    124\n",
      "2020-01-07    116\n",
      "2020-01-08    112\n",
      "2020-01-09    106\n",
      "2020-01-10    112\n",
      "dtype: int64\n"
     ]
    }
   ],
   "source": [
    "print(s1 + s2)"
   ]
  },
  {
   "cell_type": "markdown",
   "id": "8843d89a",
   "metadata": {},
   "source": [
    "# 날짜 변경 후 생산량의 합 구하기"
   ]
  },
  {
   "cell_type": "markdown",
   "id": "80d78a9a",
   "metadata": {},
   "source": [
    "### A공장의 2020년 1월 1일 부터 10일간 생산량의 Series로 저장\n",
    "### 생산량: 평균 50, 표준편차 5인 정규분포에서 랜덤하게 생성(정수)\n",
    "### index: 날짜"
   ]
  },
  {
   "cell_type": "code",
   "execution_count": 23,
   "id": "fe65b7a2",
   "metadata": {},
   "outputs": [
    {
     "name": "stdout",
     "output_type": "stream",
     "text": [
      "2020-01-01    41\n",
      "2020-01-02    55\n",
      "2020-01-03    43\n",
      "2020-01-04    53\n",
      "2020-01-05    41\n",
      "2020-01-06    43\n",
      "2020-01-07    54\n",
      "2020-01-08    50\n",
      "2020-01-09    53\n",
      "2020-01-10    52\n",
      "dtype: int64\n"
     ]
    }
   ],
   "source": [
    "import numpy as np\n",
    "import pandas as pd\n",
    "from datetime import datetime, timedelta\n",
    "\n",
    "start_day_A_factory = datetime(2020,1,1)\n",
    "start_day_B_factory = datetime(2020,1,5)\n",
    "\n",
    "# list comprehension => list 생성 시 제어문(for,if)을 이용.\n",
    "s1 = pd.Series([int(x) for x in np.random.normal(50,5,(10,))],\n",
    "               index=[start_day_A_factory + timedelta(days=x) for x in range(10)])\n",
    "print(s1)"
   ]
  },
  {
   "cell_type": "markdown",
   "id": "54b3568f",
   "metadata": {},
   "source": [
    "### B공장의 2020년 1월 5일 부터 10일간 생산량의 Series로 저장\n",
    "### 생산량: 평균 70, 표준편차 8인 정규분포에서 랜덤하게 생성(정수)\n",
    "### index: 날짜"
   ]
  },
  {
   "cell_type": "code",
   "execution_count": 24,
   "id": "6b3eb96b",
   "metadata": {},
   "outputs": [
    {
     "name": "stdout",
     "output_type": "stream",
     "text": [
      "2020-01-05    77\n",
      "2020-01-06    62\n",
      "2020-01-07    71\n",
      "2020-01-08    70\n",
      "2020-01-09    56\n",
      "2020-01-10    70\n",
      "2020-01-11    62\n",
      "2020-01-12    81\n",
      "2020-01-13    66\n",
      "2020-01-14    76\n",
      "dtype: int64\n"
     ]
    }
   ],
   "source": [
    "s2 = pd.Series([int(x) for x in np.random.normal(70,8,(10,))],\n",
    "               index=[start_day_B_factory + timedelta(days=x) for x in range(10)])\n",
    "print(s2)"
   ]
  },
  {
   "cell_type": "markdown",
   "id": "3458019d",
   "metadata": {},
   "source": [
    "### 날짜별 생산량의 합 - Series는 인덱스가 같은 것끼리 연산"
   ]
  },
  {
   "cell_type": "code",
   "execution_count": 25,
   "id": "38e03218",
   "metadata": {},
   "outputs": [
    {
     "name": "stdout",
     "output_type": "stream",
     "text": [
      "2020-01-01      NaN\n",
      "2020-01-02      NaN\n",
      "2020-01-03      NaN\n",
      "2020-01-04      NaN\n",
      "2020-01-05    118.0\n",
      "2020-01-06    105.0\n",
      "2020-01-07    125.0\n",
      "2020-01-08    120.0\n",
      "2020-01-09    109.0\n",
      "2020-01-10    122.0\n",
      "2020-01-11      NaN\n",
      "2020-01-12      NaN\n",
      "2020-01-13      NaN\n",
      "2020-01-14      NaN\n",
      "dtype: float64\n"
     ]
    }
   ],
   "source": [
    "print(s1 + s2)"
   ]
  },
  {
   "cell_type": "markdown",
   "id": "07676143",
   "metadata": {},
   "source": [
    "# DataFrame"
   ]
  },
  {
   "cell_type": "markdown",
   "id": "e58eac49",
   "metadata": {},
   "source": [
    "- Series의 집합\n",
    "- dictionary를 이용해서 만듦"
   ]
  },
  {
   "cell_type": "code",
   "execution_count": 26,
   "id": "29682732",
   "metadata": {},
   "outputs": [
    {
     "data": {
      "text/html": [
       "<div>\n",
       "<style scoped>\n",
       "    .dataframe tbody tr th:only-of-type {\n",
       "        vertical-align: middle;\n",
       "    }\n",
       "\n",
       "    .dataframe tbody tr th {\n",
       "        vertical-align: top;\n",
       "    }\n",
       "\n",
       "    .dataframe thead th {\n",
       "        text-align: right;\n",
       "    }\n",
       "</style>\n",
       "<table border=\"1\" class=\"dataframe\">\n",
       "  <thead>\n",
       "    <tr style=\"text-align: right;\">\n",
       "      <th></th>\n",
       "      <th>이름</th>\n",
       "      <th>학년</th>\n",
       "      <th>학점</th>\n",
       "    </tr>\n",
       "  </thead>\n",
       "  <tbody>\n",
       "    <tr>\n",
       "      <th>0</th>\n",
       "      <td>배수민</td>\n",
       "      <td>4</td>\n",
       "      <td>1.5</td>\n",
       "    </tr>\n",
       "    <tr>\n",
       "      <th>1</th>\n",
       "      <td>장예은</td>\n",
       "      <td>3</td>\n",
       "      <td>2.4</td>\n",
       "    </tr>\n",
       "    <tr>\n",
       "      <th>2</th>\n",
       "      <td>박시은</td>\n",
       "      <td>1</td>\n",
       "      <td>3.9</td>\n",
       "    </tr>\n",
       "    <tr>\n",
       "      <th>3</th>\n",
       "      <td>심자윤</td>\n",
       "      <td>2</td>\n",
       "      <td>3.2</td>\n",
       "    </tr>\n",
       "  </tbody>\n",
       "</table>\n",
       "</div>"
      ],
      "text/plain": [
       "    이름  학년   학점\n",
       "0  배수민   4  1.5\n",
       "1  장예은   3  2.4\n",
       "2  박시은   1  3.9\n",
       "3  심자윤   2  3.2"
      ]
     },
     "metadata": {},
     "output_type": "display_data"
    }
   ],
   "source": [
    "import numpy as np\n",
    "import pandas as pd\n",
    "\n",
    "my_dict = {'이름': ['배수민', '장예은', '박시은', '심자윤'],\n",
    "           '학년': [4, 3, 1, 2],\n",
    "           '학점': [1.5, 2.4, 3.9, 3.2]}\n",
    "\n",
    "df = pd.DataFrame(my_dict)\n",
    "display(df)"
   ]
  },
  {
   "cell_type": "markdown",
   "id": "4a5c4079",
   "metadata": {},
   "source": [
    "## DataFrame의 기본 속성"
   ]
  },
  {
   "cell_type": "code",
   "execution_count": 27,
   "id": "1d9ce6ac",
   "metadata": {},
   "outputs": [
    {
     "name": "stdout",
     "output_type": "stream",
     "text": [
      "(4, 3)\n",
      "[['배수민' 4 1.5]\n",
      " ['장예은' 3 2.4]\n",
      " ['박시은' 1 3.9]\n",
      " ['심자윤' 2 3.2]]\n",
      "12\n",
      "2\n",
      "RangeIndex(start=0, stop=4, step=1)\n",
      "Index(['이름', '학년', '학점'], dtype='object')\n"
     ]
    }
   ],
   "source": [
    "print(df.shape)  \n",
    "print(df.values)  # 2차원 ndarray\n",
    "print(df.size)    # DataFrame안의 요소 개수\n",
    "print(df.ndim)   \n",
    "print(df.index)   # 행 index \n",
    "print(df.columns) # 열 index"
   ]
  },
  {
   "cell_type": "code",
   "execution_count": 28,
   "id": "3fdb7e42",
   "metadata": {},
   "outputs": [
    {
     "data": {
      "text/html": [
       "<div>\n",
       "<style scoped>\n",
       "    .dataframe tbody tr th:only-of-type {\n",
       "        vertical-align: middle;\n",
       "    }\n",
       "\n",
       "    .dataframe tbody tr th {\n",
       "        vertical-align: top;\n",
       "    }\n",
       "\n",
       "    .dataframe thead th {\n",
       "        text-align: right;\n",
       "    }\n",
       "</style>\n",
       "<table border=\"1\" class=\"dataframe\">\n",
       "  <thead>\n",
       "    <tr style=\"text-align: right;\">\n",
       "      <th>학생정보</th>\n",
       "      <th>이름</th>\n",
       "      <th>학년</th>\n",
       "      <th>학점</th>\n",
       "    </tr>\n",
       "    <tr>\n",
       "      <th>학번</th>\n",
       "      <th></th>\n",
       "      <th></th>\n",
       "      <th></th>\n",
       "    </tr>\n",
       "  </thead>\n",
       "  <tbody>\n",
       "    <tr>\n",
       "      <th>0</th>\n",
       "      <td>배수민</td>\n",
       "      <td>4</td>\n",
       "      <td>1.5</td>\n",
       "    </tr>\n",
       "    <tr>\n",
       "      <th>1</th>\n",
       "      <td>장예은</td>\n",
       "      <td>3</td>\n",
       "      <td>2.4</td>\n",
       "    </tr>\n",
       "    <tr>\n",
       "      <th>2</th>\n",
       "      <td>박시은</td>\n",
       "      <td>1</td>\n",
       "      <td>3.9</td>\n",
       "    </tr>\n",
       "    <tr>\n",
       "      <th>3</th>\n",
       "      <td>심자윤</td>\n",
       "      <td>2</td>\n",
       "      <td>3.2</td>\n",
       "    </tr>\n",
       "  </tbody>\n",
       "</table>\n",
       "</div>"
      ],
      "text/plain": [
       "학생정보   이름  학년   학점\n",
       "학번                \n",
       "0     배수민   4  1.5\n",
       "1     장예은   3  2.4\n",
       "2     박시은   1  3.9\n",
       "3     심자윤   2  3.2"
      ]
     },
     "metadata": {},
     "output_type": "display_data"
    }
   ],
   "source": [
    "df.index.name = '학번'\n",
    "df.columns.name = '학생정보'\n",
    "display(df)"
   ]
  },
  {
   "cell_type": "markdown",
   "id": "aa08f51a",
   "metadata": {},
   "source": [
    "### rename() - DataFrame의 column명과 index명 변경 "
   ]
  },
  {
   "cell_type": "code",
   "execution_count": 29,
   "id": "a72eff07",
   "metadata": {},
   "outputs": [
    {
     "data": {
      "text/html": [
       "<div>\n",
       "<style scoped>\n",
       "    .dataframe tbody tr th:only-of-type {\n",
       "        vertical-align: middle;\n",
       "    }\n",
       "\n",
       "    .dataframe tbody tr th {\n",
       "        vertical-align: top;\n",
       "    }\n",
       "\n",
       "    .dataframe thead th {\n",
       "        text-align: right;\n",
       "    }\n",
       "</style>\n",
       "<table border=\"1\" class=\"dataframe\">\n",
       "  <thead>\n",
       "    <tr style=\"text-align: right;\">\n",
       "      <th></th>\n",
       "      <th>이름</th>\n",
       "      <th>학년</th>\n",
       "      <th>학점</th>\n",
       "    </tr>\n",
       "  </thead>\n",
       "  <tbody>\n",
       "    <tr>\n",
       "      <th>0</th>\n",
       "      <td>윤세은</td>\n",
       "      <td>4</td>\n",
       "      <td>1.5</td>\n",
       "    </tr>\n",
       "    <tr>\n",
       "      <th>1</th>\n",
       "      <td>이채영</td>\n",
       "      <td>3</td>\n",
       "      <td>2.4</td>\n",
       "    </tr>\n",
       "    <tr>\n",
       "      <th>2</th>\n",
       "      <td>심자윤</td>\n",
       "      <td>1</td>\n",
       "      <td>3.9</td>\n",
       "    </tr>\n",
       "    <tr>\n",
       "      <th>3</th>\n",
       "      <td>장예은</td>\n",
       "      <td>2</td>\n",
       "      <td>3.2</td>\n",
       "    </tr>\n",
       "  </tbody>\n",
       "</table>\n",
       "</div>"
      ],
      "text/plain": [
       "    이름  학년   학점\n",
       "0  윤세은   4  1.5\n",
       "1  이채영   3  2.4\n",
       "2  심자윤   1  3.9\n",
       "3  장예은   2  3.2"
      ]
     },
     "metadata": {},
     "output_type": "display_data"
    }
   ],
   "source": [
    "import numpy as np\n",
    "import pandas as pd\n",
    "\n",
    "my_dict = {'이름': ['윤세은', '이채영', '심자윤', '장예은'],\n",
    "           '학년': [4, 3, 1, 2],\n",
    "           '학점': [1.5, 2.4, 3.9, 3.2]}\n",
    "\n",
    "df = pd.DataFrame(my_dict)\n",
    "display(df)"
   ]
  },
  {
   "cell_type": "markdown",
   "id": "a81ea1e9",
   "metadata": {},
   "source": [
    "### inplace 옵션의 값이 True - 원본 수정, 복사본 만들지 않음\n",
    "### inplace 옵션의 값이 False - 원본 그대로, 복사본 만듦"
   ]
  },
  {
   "cell_type": "code",
   "execution_count": 30,
   "id": "0fccf1cd",
   "metadata": {},
   "outputs": [
    {
     "data": {
      "text/html": [
       "<div>\n",
       "<style scoped>\n",
       "    .dataframe tbody tr th:only-of-type {\n",
       "        vertical-align: middle;\n",
       "    }\n",
       "\n",
       "    .dataframe tbody tr th {\n",
       "        vertical-align: top;\n",
       "    }\n",
       "\n",
       "    .dataframe thead th {\n",
       "        text-align: right;\n",
       "    }\n",
       "</style>\n",
       "<table border=\"1\" class=\"dataframe\">\n",
       "  <thead>\n",
       "    <tr style=\"text-align: right;\">\n",
       "      <th></th>\n",
       "      <th>학생이름</th>\n",
       "      <th>학년</th>\n",
       "      <th>평균평점</th>\n",
       "    </tr>\n",
       "  </thead>\n",
       "  <tbody>\n",
       "    <tr>\n",
       "      <th>one</th>\n",
       "      <td>윤세은</td>\n",
       "      <td>4</td>\n",
       "      <td>1.5</td>\n",
       "    </tr>\n",
       "    <tr>\n",
       "      <th>1</th>\n",
       "      <td>이채영</td>\n",
       "      <td>3</td>\n",
       "      <td>2.4</td>\n",
       "    </tr>\n",
       "    <tr>\n",
       "      <th>2</th>\n",
       "      <td>심자윤</td>\n",
       "      <td>1</td>\n",
       "      <td>3.9</td>\n",
       "    </tr>\n",
       "    <tr>\n",
       "      <th>3</th>\n",
       "      <td>장예은</td>\n",
       "      <td>2</td>\n",
       "      <td>3.2</td>\n",
       "    </tr>\n",
       "  </tbody>\n",
       "</table>\n",
       "</div>"
      ],
      "text/plain": [
       "    학생이름  학년  평균평점\n",
       "one  윤세은   4   1.5\n",
       "1    이채영   3   2.4\n",
       "2    심자윤   1   3.9\n",
       "3    장예은   2   3.2"
      ]
     },
     "metadata": {},
     "output_type": "display_data"
    }
   ],
   "source": [
    "new_df = df.rename(columns={'이름':'학생이름',\n",
    "                            '학점':'평균평점'},\n",
    "                   index={0:'one'},\n",
    "                   inplace=False)\n",
    "display(new_df)"
   ]
  },
  {
   "cell_type": "markdown",
   "id": "18678d22",
   "metadata": {},
   "source": [
    "# set_index() - DataFrame의 특정 column을 index로 설정"
   ]
  },
  {
   "cell_type": "code",
   "execution_count": 31,
   "id": "bf26dcb7",
   "metadata": {},
   "outputs": [
    {
     "data": {
      "text/html": [
       "<div>\n",
       "<style scoped>\n",
       "    .dataframe tbody tr th:only-of-type {\n",
       "        vertical-align: middle;\n",
       "    }\n",
       "\n",
       "    .dataframe tbody tr th {\n",
       "        vertical-align: top;\n",
       "    }\n",
       "\n",
       "    .dataframe thead th {\n",
       "        text-align: right;\n",
       "    }\n",
       "</style>\n",
       "<table border=\"1\" class=\"dataframe\">\n",
       "  <thead>\n",
       "    <tr style=\"text-align: right;\">\n",
       "      <th></th>\n",
       "      <th>이름</th>\n",
       "      <th>학년</th>\n",
       "      <th>학점</th>\n",
       "    </tr>\n",
       "  </thead>\n",
       "  <tbody>\n",
       "    <tr>\n",
       "      <th>0</th>\n",
       "      <td>심자윤</td>\n",
       "      <td>4</td>\n",
       "      <td>1.5</td>\n",
       "    </tr>\n",
       "    <tr>\n",
       "      <th>1</th>\n",
       "      <td>윤세은</td>\n",
       "      <td>3</td>\n",
       "      <td>2.4</td>\n",
       "    </tr>\n",
       "    <tr>\n",
       "      <th>2</th>\n",
       "      <td>배수민</td>\n",
       "      <td>1</td>\n",
       "      <td>3.9</td>\n",
       "    </tr>\n",
       "    <tr>\n",
       "      <th>3</th>\n",
       "      <td>이채영</td>\n",
       "      <td>2</td>\n",
       "      <td>3.2</td>\n",
       "    </tr>\n",
       "  </tbody>\n",
       "</table>\n",
       "</div>"
      ],
      "text/plain": [
       "    이름  학년   학점\n",
       "0  심자윤   4  1.5\n",
       "1  윤세은   3  2.4\n",
       "2  배수민   1  3.9\n",
       "3  이채영   2  3.2"
      ]
     },
     "metadata": {},
     "output_type": "display_data"
    }
   ],
   "source": [
    "import numpy as np\n",
    "import pandas as pd\n",
    "\n",
    "my_dict = {'이름': ['심자윤', '윤세은', '배수민', '이채영'],\n",
    "           '학년': [4, 3, 1, 2],\n",
    "           '학점': [1.5, 2.4, 3.9, 3.2]}\n",
    "\n",
    "df = pd.DataFrame(my_dict)\n",
    "display(df)"
   ]
  },
  {
   "cell_type": "markdown",
   "id": "287c1817",
   "metadata": {},
   "source": [
    "### 이름 column을 index로 설정"
   ]
  },
  {
   "cell_type": "code",
   "execution_count": 32,
   "id": "94045a69",
   "metadata": {},
   "outputs": [
    {
     "data": {
      "text/html": [
       "<div>\n",
       "<style scoped>\n",
       "    .dataframe tbody tr th:only-of-type {\n",
       "        vertical-align: middle;\n",
       "    }\n",
       "\n",
       "    .dataframe tbody tr th {\n",
       "        vertical-align: top;\n",
       "    }\n",
       "\n",
       "    .dataframe thead th {\n",
       "        text-align: right;\n",
       "    }\n",
       "</style>\n",
       "<table border=\"1\" class=\"dataframe\">\n",
       "  <thead>\n",
       "    <tr style=\"text-align: right;\">\n",
       "      <th></th>\n",
       "      <th>학년</th>\n",
       "      <th>학점</th>\n",
       "    </tr>\n",
       "    <tr>\n",
       "      <th>이름</th>\n",
       "      <th></th>\n",
       "      <th></th>\n",
       "    </tr>\n",
       "  </thead>\n",
       "  <tbody>\n",
       "    <tr>\n",
       "      <th>심자윤</th>\n",
       "      <td>4</td>\n",
       "      <td>1.5</td>\n",
       "    </tr>\n",
       "    <tr>\n",
       "      <th>윤세은</th>\n",
       "      <td>3</td>\n",
       "      <td>2.4</td>\n",
       "    </tr>\n",
       "    <tr>\n",
       "      <th>배수민</th>\n",
       "      <td>1</td>\n",
       "      <td>3.9</td>\n",
       "    </tr>\n",
       "    <tr>\n",
       "      <th>이채영</th>\n",
       "      <td>2</td>\n",
       "      <td>3.2</td>\n",
       "    </tr>\n",
       "  </tbody>\n",
       "</table>\n",
       "</div>"
      ],
      "text/plain": [
       "     학년   학점\n",
       "이름          \n",
       "심자윤   4  1.5\n",
       "윤세은   3  2.4\n",
       "배수민   1  3.9\n",
       "이채영   2  3.2"
      ]
     },
     "metadata": {},
     "output_type": "display_data"
    }
   ],
   "source": [
    "new_df = df.set_index('이름', \n",
    "                      inplace=False)\n",
    "display(new_df)"
   ]
  }
 ],
 "metadata": {
  "kernelspec": {
   "display_name": "Python [conda env:machine]",
   "language": "python",
   "name": "conda-env-machine-py"
  },
  "language_info": {
   "codemirror_mode": {
    "name": "ipython",
    "version": 3
   },
   "file_extension": ".py",
   "mimetype": "text/x-python",
   "name": "python",
   "nbconvert_exporter": "python",
   "pygments_lexer": "ipython3",
   "version": "3.8.12"
  }
 },
 "nbformat": 4,
 "nbformat_minor": 5
}
