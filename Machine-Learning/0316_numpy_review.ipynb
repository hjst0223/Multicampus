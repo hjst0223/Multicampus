{
 "cells": [
  {
   "cell_type": "markdown",
   "id": "2dedc599",
   "metadata": {},
   "source": [
    "# Numpy module \n",
    "- 다차원배열, 2차원 matrix 연산을 쉽고 빠르게 하기 위해 사용"
   ]
  },
  {
   "cell_type": "markdown",
   "id": "53de8465",
   "metadata": {},
   "source": [
    "### ndarray의 사칙연산(일반적인 연산) - ndarray의 shape이 같아야 함"
   ]
  },
  {
   "cell_type": "code",
   "execution_count": 1,
   "id": "5dbab271",
   "metadata": {},
   "outputs": [
    {
     "name": "stdout",
     "output_type": "stream",
     "text": [
      "[5 7 9]\n"
     ]
    }
   ],
   "source": [
    "import numpy as np\n",
    "\n",
    "arr1 = np.array([1,2,3])  # (3,)\n",
    "arr2 = np.array([4,5,6])  # (3,)\n",
    "print(arr1 + arr2)"
   ]
  },
  {
   "cell_type": "markdown",
   "id": "0304c7dd",
   "metadata": {},
   "source": [
    "### 만약 shape이 다르면 오류 발생"
   ]
  },
  {
   "cell_type": "code",
   "execution_count": 2,
   "id": "353c4207",
   "metadata": {},
   "outputs": [
    {
     "ename": "ValueError",
     "evalue": "operands could not be broadcast together with shapes (4,) (3,) ",
     "output_type": "error",
     "traceback": [
      "\u001b[1;31m---------------------------------------------------------------------------\u001b[0m",
      "\u001b[1;31mValueError\u001b[0m                                Traceback (most recent call last)",
      "Input \u001b[1;32mIn [2]\u001b[0m, in \u001b[0;36m<cell line: 4>\u001b[1;34m()\u001b[0m\n\u001b[0;32m      2\u001b[0m arr1 \u001b[38;5;241m=\u001b[39m np\u001b[38;5;241m.\u001b[39marray([\u001b[38;5;241m1\u001b[39m,\u001b[38;5;241m2\u001b[39m,\u001b[38;5;241m3\u001b[39m,\u001b[38;5;241m4\u001b[39m])  \u001b[38;5;66;03m# (4,)\u001b[39;00m\n\u001b[0;32m      3\u001b[0m arr2 \u001b[38;5;241m=\u001b[39m np\u001b[38;5;241m.\u001b[39marray([\u001b[38;5;241m4\u001b[39m,\u001b[38;5;241m5\u001b[39m,\u001b[38;5;241m6\u001b[39m])    \u001b[38;5;66;03m# (3,)\u001b[39;00m\n\u001b[1;32m----> 4\u001b[0m \u001b[38;5;28mprint\u001b[39m(\u001b[43marr1\u001b[49m\u001b[43m \u001b[49m\u001b[38;5;241;43m+\u001b[39;49m\u001b[43m \u001b[49m\u001b[43marr2\u001b[49m)\n",
      "\u001b[1;31mValueError\u001b[0m: operands could not be broadcast together with shapes (4,) (3,) "
     ]
    }
   ],
   "source": [
    "# 만약 shape이 다르다면 오류\n",
    "arr1 = np.array([1,2,3,4])  # (4,)\n",
    "arr2 = np.array([4,5,6])    # (3,)\n",
    "print(arr1 + arr2)   "
   ]
  },
  {
   "cell_type": "markdown",
   "id": "aec28271",
   "metadata": {},
   "source": [
    "### 하지만 shape이 달라도 shape을 맞출 수 있으면 연산 가능\n",
    "### broadcasting이 발생해서 두 개의 ndarray의 shape을 똑같이 맞춤"
   ]
  },
  {
   "cell_type": "code",
   "execution_count": 3,
   "id": "f473e2b8",
   "metadata": {},
   "outputs": [
    {
     "name": "stdout",
     "output_type": "stream",
     "text": [
      "[2 3 4 5]\n"
     ]
    }
   ],
   "source": [
    "import numpy as np\n",
    "\n",
    "arr1 = np.array([1,2,3,4])  # (4,)\n",
    "print(arr1 + 1)             # broadcasting"
   ]
  },
  {
   "cell_type": "markdown",
   "id": "7dd9b6d7",
   "metadata": {},
   "source": [
    "### 오류 발생하는 경우"
   ]
  },
  {
   "cell_type": "code",
   "execution_count": 4,
   "id": "038e0e21",
   "metadata": {},
   "outputs": [
    {
     "ename": "ValueError",
     "evalue": "operands could not be broadcast together with shapes (6,) (3,) ",
     "output_type": "error",
     "traceback": [
      "\u001b[1;31m---------------------------------------------------------------------------\u001b[0m",
      "\u001b[1;31mValueError\u001b[0m                                Traceback (most recent call last)",
      "Input \u001b[1;32mIn [4]\u001b[0m, in \u001b[0;36m<cell line: 5>\u001b[1;34m()\u001b[0m\n\u001b[0;32m      3\u001b[0m arr1 \u001b[38;5;241m=\u001b[39m np\u001b[38;5;241m.\u001b[39marray([\u001b[38;5;241m1\u001b[39m,\u001b[38;5;241m2\u001b[39m,\u001b[38;5;241m3\u001b[39m,\u001b[38;5;241m4\u001b[39m,\u001b[38;5;241m5\u001b[39m,\u001b[38;5;241m6\u001b[39m])  \u001b[38;5;66;03m# (6,)\u001b[39;00m\n\u001b[0;32m      4\u001b[0m arr2 \u001b[38;5;241m=\u001b[39m np\u001b[38;5;241m.\u001b[39marray([\u001b[38;5;241m4\u001b[39m,\u001b[38;5;241m5\u001b[39m,\u001b[38;5;241m6\u001b[39m])        \u001b[38;5;66;03m# (3,)\u001b[39;00m\n\u001b[1;32m----> 5\u001b[0m \u001b[43marr1\u001b[49m\u001b[43m \u001b[49m\u001b[38;5;241;43m+\u001b[39;49m\u001b[43m \u001b[49m\u001b[43marr2\u001b[49m\n",
      "\u001b[1;31mValueError\u001b[0m: operands could not be broadcast together with shapes (6,) (3,) "
     ]
    }
   ],
   "source": [
    "import numpy as np\n",
    "\n",
    "arr1 = np.array([1,2,3,4,5,6])  # (6,)\n",
    "arr2 = np.array([4,5,6])        # (3,)\n",
    "arr1 + arr2                     # 오류"
   ]
  },
  {
   "cell_type": "markdown",
   "id": "cc086037",
   "metadata": {},
   "source": [
    "### 연산 가능한 경우"
   ]
  },
  {
   "cell_type": "code",
   "execution_count": 5,
   "id": "97ecb3f1",
   "metadata": {},
   "outputs": [
    {
     "data": {
      "text/plain": [
       "array([[ 5,  7,  9],\n",
       "       [ 8, 10, 12]])"
      ]
     },
     "execution_count": 5,
     "metadata": {},
     "output_type": "execute_result"
    }
   ],
   "source": [
    "import numpy as np\n",
    "\n",
    "arr1 = np.array([[1,2,3], [4,5,6]])  # (2,3)\n",
    "arr2 = np.array([4,5,6])             # (3,)\n",
    "arr1 + arr2                          # 가능 - arr2의 차원을 올려서 수행"
   ]
  },
  {
   "cell_type": "markdown",
   "id": "81470f71",
   "metadata": {},
   "source": [
    "## 행렬곱연산(matrix 곱연산)"
   ]
  },
  {
   "cell_type": "code",
   "execution_count": 6,
   "id": "078bfb12",
   "metadata": {},
   "outputs": [
    {
     "name": "stdout",
     "output_type": "stream",
     "text": [
      "[[ 40  46]\n",
      " [ 94 109]]\n"
     ]
    }
   ],
   "source": [
    "import numpy as np\n",
    "\n",
    "arr1 = np.array([[1,2,3], [4,5,6]])    # (2,3)\n",
    "arr2 = np.array([[4,5], [6,7], [8,9]]) # (3,2)\n",
    "# 행렬곱연산의 결과는 (2,2)\n",
    "print(np.matmul(arr1,arr2))"
   ]
  },
  {
   "cell_type": "markdown",
   "id": "89aa5f73",
   "metadata": {},
   "source": [
    "## 전치행렬(transpose)"
   ]
  },
  {
   "cell_type": "code",
   "execution_count": 7,
   "id": "8e8de706",
   "metadata": {},
   "outputs": [
    {
     "name": "stdout",
     "output_type": "stream",
     "text": [
      "[[1 2 3]\n",
      " [4 5 6]]\n",
      "[[1 4]\n",
      " [2 5]\n",
      " [3 6]]\n"
     ]
    }
   ],
   "source": [
    "import numpy as np\n",
    "\n",
    "arr = np.array([[1,2,3], [4,5,6]])  # (2,3)\n",
    "print(arr)\n",
    "\n",
    "print(arr.T)  # (3,2)"
   ]
  },
  {
   "cell_type": "markdown",
   "id": "46206e0b",
   "metadata": {},
   "source": [
    "## iterator(반복자)를 이용한 반복문 처리\n",
    "- for문을 이용해서 반복처리를 하는데 \n",
    "- ndarray는 while문과 iterator를 이용해서 반복처리하는 방식을 선호"
   ]
  },
  {
   "cell_type": "markdown",
   "id": "e1363e37",
   "metadata": {},
   "source": [
    "### 1차원 ndarray에 반복처리"
   ]
  },
  {
   "cell_type": "markdown",
   "id": "96528543",
   "metadata": {},
   "source": [
    "1. for문을 이용한 반복처리"
   ]
  },
  {
   "cell_type": "code",
   "execution_count": 8,
   "id": "f4dc3f01",
   "metadata": {},
   "outputs": [
    {
     "name": "stdout",
     "output_type": "stream",
     "text": [
      "1\n",
      "2\n",
      "3\n",
      "4\n",
      "5\n"
     ]
    }
   ],
   "source": [
    "import numpy as np\n",
    "\n",
    "arr = np.array([1, 2, 3, 4, 5])  # (5,)\n",
    "\n",
    "for tmp in arr:\n",
    "    print(tmp)"
   ]
  },
  {
   "cell_type": "markdown",
   "id": "baecd1d7",
   "metadata": {},
   "source": [
    "2. iterator를 이용한 반복처리"
   ]
  },
  {
   "cell_type": "code",
   "execution_count": 9,
   "id": "b03774cc",
   "metadata": {},
   "outputs": [
    {
     "name": "stdout",
     "output_type": "stream",
     "text": [
      "1\n",
      "2\n",
      "3\n",
      "4\n",
      "5\n"
     ]
    }
   ],
   "source": [
    "import numpy as np\n",
    "\n",
    "arr = np.array([1, 2, 3, 4, 5])  # (5,)\n",
    "\n",
    "# iterator 객체를 하나 얻어옴\n",
    "# iterator 객체로부터 index 추출 가능\n",
    "my_iter = np.nditer(arr, flags=['c_index'])\n",
    "\n",
    "while not my_iter.finished:\n",
    "    \n",
    "    idx = my_iter.index\n",
    "    print(arr[idx])  \n",
    "    my_iter.iternext()"
   ]
  },
  {
   "cell_type": "markdown",
   "id": "725a8cbb",
   "metadata": {},
   "source": [
    "### 2차원 ndarray에 반복처리"
   ]
  },
  {
   "cell_type": "markdown",
   "id": "6cfe4df6",
   "metadata": {},
   "source": [
    "1. for문을 이용한 반복처리"
   ]
  },
  {
   "cell_type": "code",
   "execution_count": 10,
   "id": "1d2a4646",
   "metadata": {},
   "outputs": [
    {
     "name": "stdout",
     "output_type": "stream",
     "text": [
      "1\n",
      "2\n",
      "3\n",
      "4\n",
      "5\n",
      "6\n"
     ]
    }
   ],
   "source": [
    "import numpy as np\n",
    "\n",
    "arr = np.array([[1,2,3], [4,5,6]])  # (2,3)\n",
    "\n",
    "for tmp1 in range(arr.shape[0]):\n",
    "    for tmp2 in range(arr.shape[1]):\n",
    "        print(arr[tmp1, tmp2])"
   ]
  },
  {
   "cell_type": "markdown",
   "id": "f174bae5",
   "metadata": {},
   "source": [
    "2. iterator를 이용한 반복처리"
   ]
  },
  {
   "cell_type": "code",
   "execution_count": 11,
   "id": "b7610235",
   "metadata": {},
   "outputs": [
    {
     "name": "stdout",
     "output_type": "stream",
     "text": [
      "(0, 0)\n",
      "1\n",
      "(0, 1)\n",
      "2\n",
      "(0, 2)\n",
      "3\n",
      "(1, 0)\n",
      "4\n",
      "(1, 1)\n",
      "5\n",
      "(1, 2)\n",
      "6\n"
     ]
    }
   ],
   "source": [
    "import numpy as np\n",
    "\n",
    "arr = np.array([[1,2,3], [4,5,6]])  # (2,3)\n",
    "\n",
    "my_iter = np.nditer(arr, flags=['multi_index'])\n",
    "\n",
    "while not my_iter.finished:\n",
    "    \n",
    "    idx = my_iter.multi_index\n",
    "    print(idx)\n",
    "    print(arr[idx])\n",
    "    my_iter.iternext()"
   ]
  },
  {
   "cell_type": "markdown",
   "id": "7ba208f9",
   "metadata": {},
   "source": [
    "# 다양한 집계함수와 axis 개념"
   ]
  },
  {
   "cell_type": "code",
   "execution_count": 12,
   "id": "277607d6",
   "metadata": {},
   "outputs": [
    {
     "name": "stdout",
     "output_type": "stream",
     "text": [
      "[[1 2 3]\n",
      " [4 5 6]]\n"
     ]
    }
   ],
   "source": [
    "import numpy as np\n",
    "\n",
    "arr = np.arange(1,7,1).reshape(2,3)\n",
    "print(arr)"
   ]
  },
  {
   "cell_type": "markdown",
   "id": "e1349a06",
   "metadata": {},
   "source": [
    "## ndarray 데이터에 대한 집계"
   ]
  },
  {
   "cell_type": "code",
   "execution_count": 13,
   "id": "642e3ab0",
   "metadata": {},
   "outputs": [
    {
     "name": "stdout",
     "output_type": "stream",
     "text": [
      "21\n",
      "21\n",
      "3.5\n",
      "6\n",
      "1\n",
      "5\n",
      "1.707825127659933\n"
     ]
    }
   ],
   "source": [
    "print(np.sum(arr))    # Numpy가 제공하는 함수 이용\n",
    "print(arr.sum())      # ndarray가 갖고 있는 메소드 이용\n",
    "print(arr.mean())     # 평균\n",
    "print(arr.max())      # 최댓값\n",
    "print(arr.min())      # 최솟값\n",
    "print(arr.argmax())   # 가장 큰 값의 인덱스\n",
    "print(arr.std())      # 표준편차"
   ]
  },
  {
   "cell_type": "markdown",
   "id": "04106117",
   "metadata": {},
   "source": [
    "## axis 개념\n",
    "- numpy는 집계함수를 이용할 때 axis를 명시하지 않으면 전체를 대상으로 연산 수행"
   ]
  },
  {
   "cell_type": "code",
   "execution_count": 14,
   "id": "41f8c30d",
   "metadata": {},
   "outputs": [
    {
     "name": "stdout",
     "output_type": "stream",
     "text": [
      "[[1 2 3]\n",
      " [4 5 6]]\n"
     ]
    }
   ],
   "source": [
    "arr = np.arange(1,7,1).reshape(2,3)\n",
    "print(arr)   "
   ]
  },
  {
   "cell_type": "code",
   "execution_count": 15,
   "id": "77295151",
   "metadata": {},
   "outputs": [
    {
     "name": "stdout",
     "output_type": "stream",
     "text": [
      "[5 7 9]\n",
      "[ 6 15]\n"
     ]
    }
   ],
   "source": [
    "print(arr.sum(axis=0))  # 행 \n",
    "print(arr.sum(axis=1))  # 열"
   ]
  },
  {
   "cell_type": "markdown",
   "id": "e928b7d2",
   "metadata": {},
   "source": [
    "## 연습문제"
   ]
  },
  {
   "cell_type": "markdown",
   "id": "e7cb7ccf",
   "metadata": {},
   "source": [
    "### 10보다 큰 수의 개수 (Boolean Indexing)"
   ]
  },
  {
   "cell_type": "code",
   "execution_count": 16,
   "id": "779202ad",
   "metadata": {},
   "outputs": [
    {
     "name": "stdout",
     "output_type": "stream",
     "text": [
      "[[ 1  2  3  4]\n",
      " [ 5  6  7  8]\n",
      " [ 9 10 11 12]\n",
      " [13 14 15 16]]\n"
     ]
    }
   ],
   "source": [
    "import numpy as np\n",
    "\n",
    "arr = np.arange(1,17,1).reshape(4,4)\n",
    "print(arr)"
   ]
  },
  {
   "cell_type": "code",
   "execution_count": 17,
   "id": "6e627d19",
   "metadata": {},
   "outputs": [
    {
     "name": "stdout",
     "output_type": "stream",
     "text": [
      "6\n"
     ]
    }
   ],
   "source": [
    "print((arr > 10).sum())"
   ]
  }
 ],
 "metadata": {
  "kernelspec": {
   "display_name": "Python [conda env:machine]",
   "language": "python",
   "name": "conda-env-machine-py"
  },
  "language_info": {
   "codemirror_mode": {
    "name": "ipython",
    "version": 3
   },
   "file_extension": ".py",
   "mimetype": "text/x-python",
   "name": "python",
   "nbconvert_exporter": "python",
   "pygments_lexer": "ipython3",
   "version": "3.8.12"
  }
 },
 "nbformat": 4,
 "nbformat_minor": 5
}
