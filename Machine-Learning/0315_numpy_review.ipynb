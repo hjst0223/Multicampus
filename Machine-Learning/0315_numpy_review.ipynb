{
 "cells": [
  {
   "cell_type": "markdown",
   "id": "02c65b2b",
   "metadata": {},
   "source": [
    "* Data 분석이 어려운 이유 - 데이터 & Computing Resource가 많이 필요함\n",
    "* 우리가 얻는 데이터는 대부분 raw data로, 머신러닝의 학습에 사용하기 위해서는 가공이 필요함\n",
    "* pandas module : pandas의 데이터타입을 구성하고 있는 numpy module\n",
    "* numpy는 하나의 자료구조(list, dict)를 제공 => ndarray라는 자료구조를 제공"
   ]
  },
  {
   "cell_type": "markdown",
   "id": "5612b82a",
   "metadata": {},
   "source": [
    "# Numpy\n",
    "* 수치계산을 용이하기 하기 위한 python module로, 대용량의 다차원 배열과 matrix(행렬)연산에 용이함\n",
    "* Numerical Python => Numpy\n",
    "* 단 하나의 자료구조를 제공 => ndarray(n-dimensional array)\n",
    "* ndarray는 python의 list와 상당히 유사, 차원의 개념 \n",
    "* list는 여러 다른 타입의 데이터가 저장될 수 있으나 ndarray는 무조건 같은 데이터 타입만 저장됨\n",
    "* 외장 module이기 때문에 설치해서 사용 => conda install numpy"
   ]
  },
  {
   "cell_type": "markdown",
   "id": "f384e005",
   "metadata": {},
   "source": [
    "## Python의 list"
   ]
  },
  {
   "cell_type": "code",
   "execution_count": 1,
   "id": "56218902",
   "metadata": {},
   "outputs": [
    {
     "name": "stdout",
     "output_type": "stream",
     "text": [
      "[1, 2.3, 3, 4, True, 'Hello']\n",
      "<class 'list'>\n"
     ]
    }
   ],
   "source": [
    "a = [1, 2.3, 3, 4, True, 'Hello']\n",
    "print(a)   \n",
    "print(type(a)) "
   ]
  },
  {
   "cell_type": "markdown",
   "id": "45013374",
   "metadata": {},
   "source": [
    "## Numpy의 ndarray"
   ]
  },
  {
   "cell_type": "code",
   "execution_count": 2,
   "id": "367e21cf",
   "metadata": {},
   "outputs": [
    {
     "name": "stdout",
     "output_type": "stream",
     "text": [
      "[1 2 3 4]\n",
      "<class 'numpy.ndarray'>\n",
      "int32\n"
     ]
    }
   ],
   "source": [
    "import numpy as np\n",
    "arr = np.array([1, 2, 3, 4])\n",
    "print(arr)        # 1차원\n",
    "print(type(arr))   \n",
    "print(arr.dtype) "
   ]
  },
  {
   "cell_type": "markdown",
   "id": "07eb6e48",
   "metadata": {},
   "source": [
    "## 중첩 리스트"
   ]
  },
  {
   "cell_type": "code",
   "execution_count": 3,
   "id": "582b8eaf",
   "metadata": {},
   "outputs": [
    {
     "name": "stdout",
     "output_type": "stream",
     "text": [
      "[[1, 2, 3], [4, 5, 6]]\n",
      "5\n"
     ]
    }
   ],
   "source": [
    "# 중첩리스트\n",
    "my_list = [[1, 2, 3],[4, 5, 6]]\n",
    "print(my_list)\n",
    "print(my_list[1][1])  "
   ]
  },
  {
   "cell_type": "markdown",
   "id": "5a865291",
   "metadata": {},
   "source": [
    "## 다차원 배열"
   ]
  },
  {
   "cell_type": "code",
   "execution_count": 4,
   "id": "e9516887",
   "metadata": {},
   "outputs": [
    {
     "name": "stdout",
     "output_type": "stream",
     "text": [
      "[[1 2 3]\n",
      " [4 5 6]]\n",
      "5\n",
      "[4 5 6]\n",
      "5\n",
      "int32\n"
     ]
    }
   ],
   "source": [
    "import numpy as np\n",
    "\n",
    "# ndarray\n",
    "arr = np.array([[1, 2, 3],[4, 5, 6]])\n",
    "print(arr)  \n",
    "print(arr[1,1]) \n",
    "print(arr[1])   \n",
    "print(arr[1][1])\n",
    "print(arr.dtype) # Numpy가 알아서 설정함"
   ]
  },
  {
   "cell_type": "markdown",
   "id": "109fe6aa",
   "metadata": {},
   "source": [
    "#### 기본적으로 ndarray는 요소의 데이터 타입을 이용해서 dtype을 설정한다.\n",
    "#### 데이터 타입을 지정해서 ndarray를 생성할 수 있다."
   ]
  },
  {
   "cell_type": "code",
   "execution_count": 5,
   "id": "710058ac",
   "metadata": {},
   "outputs": [
    {
     "name": "stdout",
     "output_type": "stream",
     "text": [
      "[[1. 2. 3.]\n",
      " [4. 5. 6.]]\n",
      "float64\n"
     ]
    }
   ],
   "source": [
    "arr = np.array([[1, 2, 3],[4, 5, 6]],\n",
    "               dtype=np.float64)\n",
    "print(arr)\n",
    "print(arr.dtype)"
   ]
  },
  {
   "cell_type": "markdown",
   "id": "5d1700d2",
   "metadata": {},
   "source": [
    "## ndarray의 차원 관련 속성"
   ]
  },
  {
   "cell_type": "code",
   "execution_count": 6,
   "id": "c97ab8d0",
   "metadata": {},
   "outputs": [
    {
     "name": "stdout",
     "output_type": "stream",
     "text": [
      "[1 2 3 4]\n",
      "int32\n",
      "1\n",
      "(4,)\n"
     ]
    }
   ],
   "source": [
    "my_list = [1, 2, 3, 4]\n",
    "arr = np.array(my_list)\n",
    "print(arr)\n",
    "print(arr.dtype)   # ndarray의 data type\n",
    "print(arr.ndim)    # ndim은 차원수를 숫자로 알려줌\n",
    "print(arr.shape)   # shape은 차원과 요소수를 tuple로 알려줌\n",
    "                   # 1차원이므로 tuple안에 요소가 1개이며 그 값(4)이 요소의 개수를 나타냄"
   ]
  },
  {
   "cell_type": "code",
   "execution_count": 7,
   "id": "ecbf1147",
   "metadata": {},
   "outputs": [
    {
     "name": "stdout",
     "output_type": "stream",
     "text": [
      "2\n",
      "(2, 3)\n"
     ]
    }
   ],
   "source": [
    "my_list = [[1, 2, 3], [4, 5, 6]]\n",
    "arr = np.array(my_list)\n",
    "print(arr.ndim)\n",
    "print(arr.shape) "
   ]
  },
  {
   "cell_type": "markdown",
   "id": "7c40876a",
   "metadata": {},
   "source": [
    "## (2,2,3) 형태의 ndarray (면, 행, 열)"
   ]
  },
  {
   "cell_type": "code",
   "execution_count": 8,
   "id": "3c5c0e85",
   "metadata": {},
   "outputs": [
    {
     "name": "stdout",
     "output_type": "stream",
     "text": [
      "(2, 2, 3)\n"
     ]
    }
   ],
   "source": [
    "my_list = [[[1,2,3], \n",
    "            [1,2,3]], \n",
    "           [[1,2,3], \n",
    "            [1,2,3]]]\n",
    "arr = np.array(my_list)\n",
    "print(arr.shape)"
   ]
  },
  {
   "cell_type": "markdown",
   "id": "9c3c1554",
   "metadata": {},
   "source": [
    "## ndarray의 type 변환시키기 - astype()"
   ]
  },
  {
   "cell_type": "code",
   "execution_count": 9,
   "id": "ebda2e15",
   "metadata": {},
   "outputs": [
    {
     "name": "stdout",
     "output_type": "stream",
     "text": [
      "float64\n",
      "[1 2 3 4 5]\n",
      "['1.2' '2.3' '3.0' '4.0' '5.7']\n"
     ]
    }
   ],
   "source": [
    "import numpy as np\n",
    "\n",
    "arr = np.array([1.2, 2.3, 3, 4, 5.7])\n",
    "print(arr.dtype)\n",
    "\n",
    "# 실수=>정수 변환 시 소수점은 버림\n",
    "new_arr = arr.astype(np.int32) \n",
    "print(new_arr)\n",
    "\n",
    "new_arr = arr.astype(np.str_)\n",
    "print(new_arr)"
   ]
  },
  {
   "cell_type": "markdown",
   "id": "628eee18",
   "metadata": {},
   "source": [
    "# ndarray를 만드는 다양한 함수들"
   ]
  },
  {
   "cell_type": "markdown",
   "id": "c857d871",
   "metadata": {},
   "source": [
    "### np.array(), np.ones(), np.zeros(), np.full(). np.empty()"
   ]
  },
  {
   "cell_type": "code",
   "execution_count": 10,
   "id": "4ba395e5",
   "metadata": {},
   "outputs": [],
   "source": [
    "import numpy as np"
   ]
  },
  {
   "cell_type": "code",
   "execution_count": 11,
   "id": "8294b89d",
   "metadata": {},
   "outputs": [],
   "source": [
    "my_list = [1, 2, 3]\n",
    "arr = np.array(my_list)  # list를 이용하여 ndarray 생성"
   ]
  },
  {
   "cell_type": "code",
   "execution_count": 12,
   "id": "f3f0af01",
   "metadata": {},
   "outputs": [
    {
     "name": "stdout",
     "output_type": "stream",
     "text": [
      "[[0. 0. 0. 0.]\n",
      " [0. 0. 0. 0.]\n",
      " [0. 0. 0. 0.]]\n"
     ]
    }
   ],
   "source": [
    "arr = np.zeros((3,4))    # shape은 tuple로 표현\n",
    "print(arr)               # 주어진 shape에 대한 ndarray를 생성하고 0으로 채움"
   ]
  },
  {
   "cell_type": "code",
   "execution_count": 13,
   "id": "3624f3f8",
   "metadata": {},
   "outputs": [
    {
     "name": "stdout",
     "output_type": "stream",
     "text": [
      "[[1. 1. 1.]\n",
      " [1. 1. 1.]]\n"
     ]
    }
   ],
   "source": [
    "arr = np.ones((2,3))   \n",
    "print(arr)               # 주어진 shape에 대한 ndarray를 생성하고 1로 채움"
   ]
  },
  {
   "cell_type": "code",
   "execution_count": 14,
   "id": "f46dc388",
   "metadata": {},
   "outputs": [
    {
     "name": "stdout",
     "output_type": "stream",
     "text": [
      "[[[4.67296746e-307 1.69121096e-306 9.34609111e-307]\n",
      "  [1.33511018e-306 1.33511969e-306 6.23037996e-307]\n",
      "  [1.69121639e-306 8.45593934e-307 9.34605716e-307]]\n",
      "\n",
      " [[8.01097889e-307 2.22522868e-306 1.33511562e-306]\n",
      "  [1.24611402e-306 1.78020848e-306 1.78018811e-306]\n",
      "  [7.56593696e-307 8.34423493e-308 2.29179042e-312]]]\n"
     ]
    }
   ],
   "source": [
    "arr = np.empty((2,3,3))\n",
    "print(arr)               # 주어진 shape에 대한 ndarray를 생성하고 값을 채우지 않음\n",
    "                         # 안에 쓰레기값이 들어갈 수 있음\n",
    "                         # 상대적으로 ndarray를 빠르게 생성할 수 있음"
   ]
  },
  {
   "cell_type": "code",
   "execution_count": 15,
   "id": "86bf8260",
   "metadata": {},
   "outputs": [
    {
     "name": "stdout",
     "output_type": "stream",
     "text": [
      "[[7. 7. 7.]\n",
      " [7. 7. 7.]]\n"
     ]
    }
   ],
   "source": [
    "arr = np.full((2,3), \n",
    "              7, \n",
    "              dtype=np.float64)        \n",
    "print(arr)"
   ]
  },
  {
   "cell_type": "markdown",
   "id": "58cb432d",
   "metadata": {},
   "source": [
    "# shape을 직접 지정하지 않고 다른 ndarray의 shape을 이용해서 ndarray를 생성할 수 있다."
   ]
  },
  {
   "cell_type": "markdown",
   "id": "3570ec93",
   "metadata": {},
   "source": [
    "### np.ones_like(), np.zeros_like(), np.full_like(), np.empty_like()"
   ]
  },
  {
   "cell_type": "code",
   "execution_count": 16,
   "id": "d7c7e92e",
   "metadata": {},
   "outputs": [],
   "source": [
    "import numpy as np"
   ]
  },
  {
   "cell_type": "code",
   "execution_count": 17,
   "id": "43c7f511",
   "metadata": {},
   "outputs": [
    {
     "name": "stdout",
     "output_type": "stream",
     "text": [
      "[[1 2 3]\n",
      " [4 5 6]]\n"
     ]
    }
   ],
   "source": [
    "arr = np.array([[1,2,3], [4,5,6]], \n",
    "               dtype=np.int32)\n",
    "print(arr)"
   ]
  },
  {
   "cell_type": "code",
   "execution_count": 18,
   "id": "60b2ea94",
   "metadata": {},
   "outputs": [
    {
     "name": "stdout",
     "output_type": "stream",
     "text": [
      "[[0 0 0]\n",
      " [0 0 0]]\n"
     ]
    }
   ],
   "source": [
    "new_arr = np.zeros_like(arr)\n",
    "print(new_arr)"
   ]
  },
  {
   "cell_type": "code",
   "execution_count": 19,
   "id": "146ea796",
   "metadata": {},
   "outputs": [
    {
     "name": "stdout",
     "output_type": "stream",
     "text": [
      "[[1 1 1]\n",
      " [1 1 1]]\n"
     ]
    }
   ],
   "source": [
    "new_arr = np.ones_like(arr)\n",
    "print(new_arr)"
   ]
  },
  {
   "cell_type": "markdown",
   "id": "699c779c",
   "metadata": {},
   "source": [
    "### np.arange()"
   ]
  },
  {
   "cell_type": "markdown",
   "id": "536d9ca5",
   "metadata": {},
   "source": [
    "## python의 range"
   ]
  },
  {
   "cell_type": "code",
   "execution_count": 20,
   "id": "5318f4f9",
   "metadata": {},
   "outputs": [
    {
     "name": "stdout",
     "output_type": "stream",
     "text": [
      "range(1, 10)\n"
     ]
    }
   ],
   "source": [
    "a = range(1,10)\n",
    "print(a)    # 실제 값을 하나씩 가지고 있지는 않음"
   ]
  },
  {
   "cell_type": "markdown",
   "id": "6f3966e2",
   "metadata": {},
   "source": [
    "## numpy의 arange"
   ]
  },
  {
   "cell_type": "code",
   "execution_count": 21,
   "id": "f4c74ed4",
   "metadata": {},
   "outputs": [
    {
     "name": "stdout",
     "output_type": "stream",
     "text": [
      "[1 2 3 4 5 6 7 8 9]\n",
      "[1.3 3.3 5.3 7.3 9.3]\n"
     ]
    }
   ],
   "source": [
    "import numpy as np\n",
    "\n",
    "arr = np.arange(1,10)   # 1부터 10까지(10은 포함X) 1씩 증가하는 값으로 구성된 ndarray로, 실제로 값을 가지고 있음\n",
    "print(arr)\n",
    "\n",
    "arr = np.arange(1.3, 10.1, 2)\n",
    "print(arr)"
   ]
  },
  {
   "cell_type": "markdown",
   "id": "908f8c2c",
   "metadata": {},
   "source": [
    "### linspace\n",
    "* np.linspace(start, stop, num)\n",
    "* start : 시작숫자와 , stop : 끝 숫자 ==> 둘 다 포함\n",
    "* num : 그 안에 균일한 간격으로 몇개의 숫자가 들어갈지를 나타내는 숫자.\n",
    "* 균일한 간격의 데이터를 생성해서  ndarray를 만들어 내는 함수\n",
    "* 원소간의 간격 => (stop-start) / (num-1)"
   ]
  },
  {
   "cell_type": "code",
   "execution_count": 22,
   "id": "44aac497",
   "metadata": {},
   "outputs": [
    {
     "name": "stdout",
     "output_type": "stream",
     "text": [
      "[ 0.  2.  4.  6.  8. 10.]\n",
      "[  0.   4.   8.  12.  16.  20.  24.  28.  32.  36.  40.  44.  48.  52.\n",
      "  56.  60.  64.  68.  72.  76.  80.  84.  88.  92.  96. 100. 104. 108.\n",
      " 112. 116. 120.]\n"
     ]
    }
   ],
   "source": [
    "import numpy as np\n",
    "\n",
    "arr = np.linspace(0,10,6)\n",
    "print(arr)\n",
    "\n",
    "arr = np.linspace(0,120,31)\n",
    "print(arr)"
   ]
  },
  {
   "cell_type": "markdown",
   "id": "c4e984d0",
   "metadata": {},
   "source": [
    "# 랜덤값을 이용해서 ndarray를 만들어 내는 방법"
   ]
  },
  {
   "cell_type": "markdown",
   "id": "567ae05a",
   "metadata": {},
   "source": [
    "### np.random.normal(), np.random.rand(), np.random.randn()\n",
    "### np.random.randint(), np.random.random()"
   ]
  },
  {
   "cell_type": "markdown",
   "id": "c3d4357a",
   "metadata": {},
   "source": [
    "#### 1. np.random.normal() \n",
    "* 난수로 채운 ndarray 생성 \n",
    "* 정규분포 실수 표본을 추출\n",
    "* 평균, 표준편차값 필요\n",
    "* 난수를 추출하고 그 난수가 정규분포를 따르는지 확인"
   ]
  },
  {
   "cell_type": "code",
   "execution_count": 23,
   "id": "51e400e7",
   "metadata": {},
   "outputs": [
    {
     "name": "stdout",
     "output_type": "stream",
     "text": [
      "[46.1926441  50.56425143 51.05174488 ... 52.07787016 49.11293605\n",
      " 49.51922114]\n"
     ]
    },
    {
     "data": {
      "image/png": "[encoded data removed]",
      "text/plain": [
       "<Figure size 432x288 with 1 Axes>"
      ]
     },
     "metadata": {
      "needs_background": "light"
     },
     "output_type": "display_data"
    }
   ],
   "source": [
    "import numpy as np\n",
    "import matplotlib.pyplot as plt\n",
    "mean = 50\n",
    "std = 2\n",
    "arr = np.random.normal(mean, std, (100000,)) # 1차원\n",
    "print(arr)\n",
    "\n",
    "plt.hist(arr,bins=100) # bins - 해당 데이터가 몇 개 들어가 있는지\n",
    "plt.show()"
   ]
  },
  {
   "cell_type": "markdown",
   "id": "ef92d0e0",
   "metadata": {},
   "source": [
    "#### 2. np.random.rand()\n",
    "* 난수로 채운 ndarray 생성\n",
    "* [0,1) 0부터 1사이(0은 포함, 1은 불포함)의 실수형 난수를 균등분포에서 추출한 후 ndarray 생성"
   ]
  },
  {
   "cell_type": "code",
   "execution_count": 24,
   "id": "85788aed",
   "metadata": {},
   "outputs": [
    {
     "name": "stdout",
     "output_type": "stream",
     "text": [
      "[0.05905535 0.63560078 0.30858127 ... 0.75908012 0.63365186 0.31609398]\n"
     ]
    },
    {
     "data": {
      "image/png": "[encoded data removed]",
      "text/plain": [
       "<Figure size 432x288 with 1 Axes>"
      ]
     },
     "metadata": {
      "needs_background": "light"
     },
     "output_type": "display_data"
    }
   ],
   "source": [
    "import numpy as np\n",
    "import matplotlib.pyplot as plt\n",
    "arr = np.random.rand(100000) # rand(데이터 개수)\n",
    "print(arr)\n",
    "\n",
    "plt.hist(arr,bins=100)\n",
    "plt.show()"
   ]
  },
  {
   "cell_type": "markdown",
   "id": "1ac788d5",
   "metadata": {},
   "source": [
    "#### 3. np.random.randn()\n",
    "* 난수로 채운 ndarray 생성\n",
    "* 표준정규분포에서 난수 추출(정규분포에서 평균이 0이고 표준편차가 1인 정규분포를 표준정규분포)"
   ]
  },
  {
   "cell_type": "code",
   "execution_count": 25,
   "id": "cad5dd30",
   "metadata": {},
   "outputs": [
    {
     "name": "stdout",
     "output_type": "stream",
     "text": [
      "[ 0.9130715  -2.06103953  0.16213785 ... -0.27233668  0.19084834\n",
      "  0.90858966]\n"
     ]
    },
    {
     "data": {
      "image/png": "[encoded data removed]",
      "text/plain": [
       "<Figure size 432x288 with 1 Axes>"
      ]
     },
     "metadata": {
      "needs_background": "light"
     },
     "output_type": "display_data"
    }
   ],
   "source": [
    "# np.random.randn(d1, d2, d3) => 인자의 개수가 차원을 정함\n",
    "arr = np.random.randn(100000) \n",
    "print(arr)\n",
    "\n",
    "plt.hist(arr,bins=100)\n",
    "plt.show()"
   ]
  },
  {
   "cell_type": "markdown",
   "id": "b60b666c",
   "metadata": {},
   "source": [
    "#### 4. np.random.randint()\n",
    "* 난수로 채운 ndarray 생성\n",
    "* 균등분포에서 정수형 난수 추출\n",
    "* low와 high값을 줘야 함"
   ]
  },
  {
   "cell_type": "code",
   "execution_count": 26,
   "id": "51b5a996",
   "metadata": {},
   "outputs": [
    {
     "name": "stdout",
     "output_type": "stream",
     "text": [
      "[ 1 62 34 ...  1 65 21]\n"
     ]
    },
    {
     "data": {
      "image/png": "[encoded data removed]",
      "text/plain": [
       "<Figure size 432x288 with 1 Axes>"
      ]
     },
     "metadata": {
      "needs_background": "light"
     },
     "output_type": "display_data"
    }
   ],
   "source": [
    "arr = np.random.randint(1, 100, (100000,))\n",
    "print(arr)\n",
    "\n",
    "plt.hist(arr,bins=100)\n",
    "plt.show()"
   ]
  },
  {
   "cell_type": "markdown",
   "id": "68bed39b",
   "metadata": {},
   "source": [
    "#### 5. np.random.random()\n",
    "* 난수로 채운 ndarray 생성\n",
    "* 균등분포에서 실수형 난수 추출\n",
    "* 범위는 [0,1) 사이에서 난수 추출"
   ]
  },
  {
   "cell_type": "code",
   "execution_count": 27,
   "id": "8c0bbea9",
   "metadata": {},
   "outputs": [
    {
     "name": "stdout",
     "output_type": "stream",
     "text": [
      "[0.19050647 0.13705129 0.00454385 ... 0.36157793 0.91951194 0.05678176]\n"
     ]
    },
    {
     "data": {
      "image/png": "[encoded data removed]",
      "text/plain": [
       "<Figure size 432x288 with 1 Axes>"
      ]
     },
     "metadata": {
      "needs_background": "light"
     },
     "output_type": "display_data"
    }
   ],
   "source": [
    "# np.random.random(shape)\n",
    "arr = np.random.random((100000,))\n",
    "print(arr)\n",
    "\n",
    "plt.hist(arr,bins=100)\n",
    "plt.show()"
   ]
  },
  {
   "cell_type": "markdown",
   "id": "c2266c22",
   "metadata": {},
   "source": [
    "# 기억해야 할 random 관련 함수들"
   ]
  },
  {
   "cell_type": "markdown",
   "id": "0f3fd9d7",
   "metadata": {},
   "source": [
    "#### 1. seed()\n",
    "    * 랜덤값도 프로그램 알고리즘에 의해서 추출되는 값\n",
    "    * 랜덤값을 도출하는 초기값을 고정하면 항상 같은 랜덤값을 얻을 수 있음\n",
    "    * 난수(랜덤값)의 재현성 확보 가능"
   ]
  },
  {
   "cell_type": "code",
   "execution_count": 28,
   "id": "220b5ecd",
   "metadata": {},
   "outputs": [
    {
     "name": "stdout",
     "output_type": "stream",
     "text": [
      "[6 9 6 1 1]\n"
     ]
    }
   ],
   "source": [
    "import numpy as np\n",
    "np.random.seed(1) # [6 9 6 1 1] 고정\n",
    "arr = np.random.randint(1,10, (5,))\n",
    "print(arr)"
   ]
  },
  {
   "cell_type": "code",
   "execution_count": 29,
   "id": "345718d4",
   "metadata": {},
   "outputs": [
    {
     "name": "stdout",
     "output_type": "stream",
     "text": [
      "[1 1 9 7 6]\n"
     ]
    }
   ],
   "source": [
    "import numpy as np\n",
    "np.random.seed(None)\n",
    "arr = np.random.randint(1,10, (5,))\n",
    "print(arr)"
   ]
  },
  {
   "cell_type": "markdown",
   "id": "5355c7d5",
   "metadata": {},
   "source": [
    "#### 2. shuffle() - 데이터의 순서 바꿀때 "
   ]
  },
  {
   "cell_type": "code",
   "execution_count": 30,
   "id": "cff28c68",
   "metadata": {},
   "outputs": [
    {
     "name": "stdout",
     "output_type": "stream",
     "text": [
      "[1 2 3 4 5 6 7 8 9]\n"
     ]
    }
   ],
   "source": [
    "arr = np.arange(1,10)\n",
    "print(arr)"
   ]
  },
  {
   "cell_type": "code",
   "execution_count": 31,
   "id": "91110d1b",
   "metadata": {},
   "outputs": [
    {
     "name": "stdout",
     "output_type": "stream",
     "text": [
      "[8 1 7 9 5 3 6 4 2]\n"
     ]
    }
   ],
   "source": [
    "np.random.shuffle(arr)   # 원본이 변경됨, 복사본을 만들지 않음\n",
    "print(arr)"
   ]
  },
  {
   "cell_type": "markdown",
   "id": "f54447e8",
   "metadata": {},
   "source": [
    "#### 3. choice() - sampling에서 사용 \n",
    "    * np.random.choice(a, size, replace, p)\n",
    "    * a : 배열(ndarray)\n",
    "    * size : 숫자 (몇 개를 추출할 것인지)\n",
    "    * replace : True면 추출했던 것을 다시 추출할 수 있음\n",
    "    * p : 확률(각 데이터가 선택될 수 있는 확률)"
   ]
  },
  {
   "cell_type": "code",
   "execution_count": 32,
   "id": "7ca4ba72",
   "metadata": {},
   "outputs": [
    {
     "name": "stdout",
     "output_type": "stream",
     "text": [
      "[3 3 1]\n"
     ]
    }
   ],
   "source": [
    "# arr = np.random.choice(np.array([1,2,3,4,5]), 3)\n",
    "arr = np.random.choice(np.array([1,2,3,4,5]), 3, replace=True) # 위와 같음 \n",
    "print(arr)"
   ]
  },
  {
   "cell_type": "code",
   "execution_count": 33,
   "id": "9aec02e3",
   "metadata": {},
   "outputs": [
    {
     "name": "stdout",
     "output_type": "stream",
     "text": [
      "[3 1 2]\n"
     ]
    }
   ],
   "source": [
    "arr = np.random.choice(np.array([1,2,3,4,5]), 3, replace=False)\n",
    "print(arr)"
   ]
  },
  {
   "cell_type": "code",
   "execution_count": 34,
   "id": "c68cc40d",
   "metadata": {},
   "outputs": [
    {
     "name": "stdout",
     "output_type": "stream",
     "text": [
      "[2 3 3]\n"
     ]
    }
   ],
   "source": [
    "arr = np.random.choice(np.array([1,2,3,4,5]), 3, p=[0.1, 0.2, 0.2, 0.5, 0])\n",
    "print(arr)"
   ]
  },
  {
   "cell_type": "markdown",
   "id": "27881a5b",
   "metadata": {},
   "source": [
    "# ndarray의 shape과 관련된 함수들\n",
    "### reshape(), ravel(), resize()"
   ]
  },
  {
   "cell_type": "markdown",
   "id": "f0d62360",
   "metadata": {},
   "source": [
    "#### reshape() \n",
    "새로운 ndarray를 생성하는 것이 아니라 shape을 바꿔서 \n",
    "원래 ndarray에 데이터를 다르게 보여주는 view 생성"
   ]
  },
  {
   "cell_type": "code",
   "execution_count": 35,
   "id": "313bcede",
   "metadata": {},
   "outputs": [
    {
     "name": "stdout",
     "output_type": "stream",
     "text": [
      "[[ 1  2  3  4  5  6]\n",
      " [ 7  8  9 10 11 12]]\n",
      "(2, 6)\n"
     ]
    }
   ],
   "source": [
    "arr = np.array([[1,2,3,4,5,6], [7,8,9,10,11,12]])\n",
    "print(arr)        # 2차원의 ndarray\n",
    "print(arr.shape)"
   ]
  },
  {
   "cell_type": "code",
   "execution_count": 36,
   "id": "cdc57c94",
   "metadata": {},
   "outputs": [
    {
     "name": "stdout",
     "output_type": "stream",
     "text": [
      "[[ 1  2  3  4]\n",
      " [ 5  6  7  8]\n",
      " [ 9 10 11 12]]\n"
     ]
    }
   ],
   "source": [
    "new_arr = arr.reshape(3,4)\n",
    "print(new_arr)"
   ]
  },
  {
   "cell_type": "code",
   "execution_count": 37,
   "id": "0ad1603d",
   "metadata": {},
   "outputs": [
    {
     "name": "stdout",
     "output_type": "stream",
     "text": [
      "[[100   2   3   4]\n",
      " [  5   6   7   8]\n",
      " [  9  10  11  12]]\n",
      "[[100   2   3   4   5   6]\n",
      " [  7   8   9  10  11  12]]\n"
     ]
    }
   ],
   "source": [
    "new_arr[0,0] = 100\n",
    "print(new_arr)\n",
    "print(arr)"
   ]
  },
  {
   "cell_type": "markdown",
   "id": "6ee9dd6c",
   "metadata": {},
   "source": [
    "모양을 바꾼 새로운 ndarray를 생성하고 싶을 경우 copy() 이용"
   ]
  },
  {
   "cell_type": "code",
   "execution_count": 38,
   "id": "89039e30",
   "metadata": {},
   "outputs": [
    {
     "name": "stdout",
     "output_type": "stream",
     "text": [
      "[[100   2   3   4]\n",
      " [  5   6   7   8]\n",
      " [  9  10  11  12]]\n",
      "[[ 1  2  3  4  5  6]\n",
      " [ 7  8  9 10 11 12]]\n"
     ]
    }
   ],
   "source": [
    "arr = np.array([[1,2,3,4,5,6], [7,8,9,10,11,12]])\n",
    "new_arr = arr.reshape(3,4).copy()\n",
    "new_arr[0,0] = 100\n",
    "print(new_arr)\n",
    "print(arr)"
   ]
  },
  {
   "cell_type": "markdown",
   "id": "0e22378b",
   "metadata": {},
   "source": [
    "#### reshape() - 내가 원하는 shape의 view를 만들 수 있음\n",
    "#### ravel() - 무조건 1차원의 view를 만듦"
   ]
  },
  {
   "cell_type": "code",
   "execution_count": 39,
   "id": "1d149226",
   "metadata": {},
   "outputs": [
    {
     "name": "stdout",
     "output_type": "stream",
     "text": [
      "[[ 1  2  3  4  5  6]\n",
      " [ 7  8  9 10 11 12]]\n",
      "(2, 6)\n",
      "[ 1  2  3  4  5  6  7  8  9 10 11 12]\n"
     ]
    }
   ],
   "source": [
    "arr = np.array([[1,2,3,4,5,6], [7,8,9,10,11,12]])\n",
    "print(arr)        # 2차원의 ndarray\n",
    "print(arr.shape)\n",
    "\n",
    "new_arr = arr.ravel()  # 1차원으로 view 생성\n",
    "# new_arr = arr.reshape(12)\n",
    "print(new_arr)"
   ]
  },
  {
   "cell_type": "markdown",
   "id": "cbcf33a8",
   "metadata": {},
   "source": [
    "#### resize()\n",
    "    * 복사본을 만들지 않고 원본 변경\n",
    "    * 요소의 개수가 달라도 수행 가능"
   ]
  },
  {
   "cell_type": "code",
   "execution_count": 40,
   "id": "3b4e403d",
   "metadata": {},
   "outputs": [
    {
     "name": "stdout",
     "output_type": "stream",
     "text": [
      "[[ 1  2  3  4  5  6]\n",
      " [ 7  8  9 10 11 12]]\n",
      "(2, 6)\n",
      "None\n",
      "[[1 2]\n",
      " [3 4]\n",
      " [5 6]]\n"
     ]
    }
   ],
   "source": [
    "arr = np.array([[1,2,3,4,5,6], [7,8,9,10,11,12]])\n",
    "print(arr)        # 2차원의 ndarray\n",
    "print(arr.shape)\n",
    "\n",
    "# new_arr = arr.reshape(3,5)  # reshape은 요소의 개수가 맞지 않으면 view가 생성되지 않음\n",
    "new_arr = arr.resize(3,2)\n",
    "print(new_arr)  \n",
    "print(arr)            "
   ]
  },
  {
   "cell_type": "markdown",
   "id": "5fa1fe22",
   "metadata": {},
   "source": [
    "# indexing & slicing"
   ]
  },
  {
   "cell_type": "code",
   "execution_count": 41,
   "id": "dd9602ff",
   "metadata": {},
   "outputs": [
    {
     "name": "stdout",
     "output_type": "stream",
     "text": [
      "[10 11 12 13 14]\n",
      "10\n",
      "[11 12]\n",
      "[11 12 13]\n"
     ]
    }
   ],
   "source": [
    "arr = np.arange(10,15,1)\n",
    "print(arr)\n",
    "print(arr[0])    # 기본적인 index\n",
    "print(arr[1:3])  # 기본적인 slicing은 python의 list와 동일\n",
    "print(arr[1:-1])"
   ]
  },
  {
   "cell_type": "code",
   "execution_count": 42,
   "id": "ed45a476",
   "metadata": {},
   "outputs": [
    {
     "name": "stdout",
     "output_type": "stream",
     "text": [
      "[[ 0  1  2  3]\n",
      " [ 4  5  6  7]\n",
      " [ 8  9 10 11]]\n"
     ]
    }
   ],
   "source": [
    "arr = np.arange(0,12).reshape(3,4)\n",
    "print(arr)"
   ]
  },
  {
   "cell_type": "code",
   "execution_count": 43,
   "id": "50bb7f92",
   "metadata": {},
   "outputs": [
    {
     "name": "stdout",
     "output_type": "stream",
     "text": [
      "6\n",
      "[4 5 6 7]\n",
      "[4 5 6 7]\n"
     ]
    }
   ],
   "source": [
    "print(arr[1,2])\n",
    "print(arr[1])   \n",
    "print(arr[1,:]) "
   ]
  },
  {
   "cell_type": "code",
   "execution_count": 44,
   "id": "d0bd7992",
   "metadata": {},
   "outputs": [
    {
     "name": "stdout",
     "output_type": "stream",
     "text": [
      "[[ 6  7]\n",
      " [10 11]]\n"
     ]
    }
   ],
   "source": [
    "print(arr[1:,2:])"
   ]
  },
  {
   "cell_type": "markdown",
   "id": "283aa3fa",
   "metadata": {},
   "source": [
    "## Boolean Indexing & Fancy Indexing"
   ]
  },
  {
   "cell_type": "markdown",
   "id": "308b136a",
   "metadata": {},
   "source": [
    "### Boolean Indexing\n",
    "* boolean mask를 이용해서 indexing하는 방법 (True만 가져옴)\n",
    "* boolean mask - True, False로만 구성된 ndarray"
   ]
  },
  {
   "cell_type": "code",
   "execution_count": 45,
   "id": "33c3a802",
   "metadata": {},
   "outputs": [
    {
     "name": "stdout",
     "output_type": "stream",
     "text": [
      "[5 8 9 5 0 0 1 7 6 9]\n"
     ]
    }
   ],
   "source": [
    "import numpy as np\n",
    "\n",
    "np.random.seed(1)\n",
    "arr = np.random.randint(0, 10, (10,))\n",
    "print(arr)   # [5 8 9 5 0 0 1 7 6 9] 고정"
   ]
  },
  {
   "cell_type": "code",
   "execution_count": 46,
   "id": "32569e04",
   "metadata": {},
   "outputs": [
    {
     "name": "stdout",
     "output_type": "stream",
     "text": [
      "[15 18 19 15 10 10 11 17 16 19]\n",
      "[1 0 1 1 0 0 1 1 0 1]\n",
      "[False  True False False  True  True False False  True False]\n"
     ]
    }
   ],
   "source": [
    "# ndarray의 사칙연산 => + , - , * , /\n",
    "print(arr + 10) \n",
    "print(arr % 2)\n",
    "print(arr % 2 == 0)  "
   ]
  },
  {
   "cell_type": "code",
   "execution_count": 47,
   "id": "bf8c7966",
   "metadata": {},
   "outputs": [
    {
     "name": "stdout",
     "output_type": "stream",
     "text": [
      "[8 0 0 6]\n"
     ]
    }
   ],
   "source": [
    "my_mask = (arr % 2 == 0)\n",
    "print(arr[my_mask]) "
   ]
  },
  {
   "cell_type": "markdown",
   "id": "a83213ec",
   "metadata": {},
   "source": [
    "python list 연산"
   ]
  },
  {
   "cell_type": "code",
   "execution_count": 48,
   "id": "f4e3549c",
   "metadata": {},
   "outputs": [
    {
     "name": "stdout",
     "output_type": "stream",
     "text": [
      "[1, 2, 3, 4, 5, 6]\n"
     ]
    }
   ],
   "source": [
    "list1 = [1,2,3]\n",
    "list2 = [4,5,6]\n",
    "print(list1 + list2)  # list 연결"
   ]
  },
  {
   "cell_type": "markdown",
   "id": "bb08c0a9",
   "metadata": {},
   "source": [
    "* ndarray는 같은 shape에 대해서만 연산 가능\n",
    "* ndarray는 만약 shape을 맞출 수 있으면 broadcasting 진행 (차원을 맞춤)"
   ]
  },
  {
   "cell_type": "code",
   "execution_count": 49,
   "id": "2d7ad97d",
   "metadata": {},
   "outputs": [
    {
     "name": "stdout",
     "output_type": "stream",
     "text": [
      "[5 7 9]\n",
      "[5 6 7]\n"
     ]
    }
   ],
   "source": [
    "arr1 = np.array([1,2,3])  \n",
    "arr2 = np.array([4,5,6])\n",
    "print(arr1 + arr2)\n",
    "\n",
    "arr1 = np.array([1,2,3])\n",
    "print(arr1 + 4)   "
   ]
  },
  {
   "cell_type": "markdown",
   "id": "7539183a",
   "metadata": {},
   "source": [
    "### Fancy Indexing\n",
    "* ndarray에 index list을 전달해서 indexing하는 방법"
   ]
  },
  {
   "cell_type": "code",
   "execution_count": 50,
   "id": "ff74bba2",
   "metadata": {},
   "outputs": [
    {
     "name": "stdout",
     "output_type": "stream",
     "text": [
      "[1 2 3 4 5 6]\n"
     ]
    }
   ],
   "source": [
    "arr = np.array([1,2,3,4,5,6])\n",
    "print(arr)"
   ]
  },
  {
   "cell_type": "code",
   "execution_count": 51,
   "id": "9542d37f",
   "metadata": {},
   "outputs": [
    {
     "name": "stdout",
     "output_type": "stream",
     "text": [
      "4\n",
      "[4 5 6]\n",
      "[4 6]\n"
     ]
    }
   ],
   "source": [
    "print(arr[3])       # indexing\n",
    "print(arr[3:])      # slicing\n",
    "print(arr[[3, 5]])  # fancy indexing"
   ]
  },
  {
   "cell_type": "code",
   "execution_count": 52,
   "id": "819a219e",
   "metadata": {},
   "outputs": [
    {
     "name": "stdout",
     "output_type": "stream",
     "text": [
      "[[ 0  1  2  3]\n",
      " [ 4  5  6  7]\n",
      " [ 8  9 10 11]]\n"
     ]
    }
   ],
   "source": [
    "arr = np.arange(0,12,1).reshape(3,4)\n",
    "print(arr)"
   ]
  },
  {
   "cell_type": "code",
   "execution_count": 53,
   "id": "901134fa",
   "metadata": {},
   "outputs": [
    {
     "name": "stdout",
     "output_type": "stream",
     "text": [
      "[[1 2 3]\n",
      " [5 6 7]]\n"
     ]
    }
   ],
   "source": [
    "print(arr[0:2, 1:])  "
   ]
  },
  {
   "cell_type": "code",
   "execution_count": 54,
   "id": "0a6c99aa",
   "metadata": {},
   "outputs": [
    {
     "name": "stdout",
     "output_type": "stream",
     "text": [
      "[[1 3]\n",
      " [5 7]]\n"
     ]
    }
   ],
   "source": [
    "print(arr[0:2, [1,3]])  # 행에 대해서는 slicing, 열에 대해서는 fancy indexing"
   ]
  },
  {
   "cell_type": "code",
   "execution_count": 55,
   "id": "d82dd18c",
   "metadata": {},
   "outputs": [
    {
     "name": "stdout",
     "output_type": "stream",
     "text": [
      "[ 1 11]\n"
     ]
    }
   ],
   "source": [
    "print(arr[[0,2], [1,3]])  # [[1 3] [9 11]] 이 안 나옴"
   ]
  },
  {
   "cell_type": "markdown",
   "id": "52e86816",
   "metadata": {},
   "source": [
    "#### np.ix_() 함수 이용"
   ]
  },
  {
   "cell_type": "code",
   "execution_count": 56,
   "id": "e5515eeb",
   "metadata": {},
   "outputs": [
    {
     "name": "stdout",
     "output_type": "stream",
     "text": [
      "[[ 1  3]\n",
      " [ 9 11]]\n"
     ]
    }
   ],
   "source": [
    "print(arr[np.ix_([0,2], [1,3])])  "
   ]
  }
 ],
 "metadata": {
  "kernelspec": {
   "display_name": "Python [conda env:machine]",
   "language": "python",
   "name": "conda-env-machine-py"
  },
  "language_info": {
   "codemirror_mode": {
    "name": "ipython",
    "version": 3
   },
   "file_extension": ".py",
   "mimetype": "text/x-python",
   "name": "python",
   "nbconvert_exporter": "python",
   "pygments_lexer": "ipython3",
   "version": "3.8.12"
  }
 },
 "nbformat": 4,
 "nbformat_minor": 5
}
